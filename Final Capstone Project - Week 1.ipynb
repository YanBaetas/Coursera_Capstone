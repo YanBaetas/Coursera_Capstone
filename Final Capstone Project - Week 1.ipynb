{
 "cells": [
  {
   "cell_type": "markdown",
   "metadata": {},
   "source": [
    "# Final Capstone Project - The Battle of the Neighborhoods"
   ]
  },
  {
   "cell_type": "markdown",
   "metadata": {},
   "source": [
    "## Introduction (Problem Description)\n",
    "\n",
    "A Friend of mine is the manager of a Gym Franchise in the City of Belém - PA, Brazil. He's looking for a good place at the City Center to open a new Gym and expand his business, but has problems finding which neighborhood would be a good one for that.\n",
    "\n",
    "In this project we will try to look into the City Center to determine its venues as well as good places with few Gyms to open the friend's new Gym.\n",
    "\n",
    "It's possible to use this kind of data to look deeper into cities around the world to explore and analyse them. Some possible applications are: look for similarity between neighborhoods, analyse neighborhood venues to recommend good places to open/set new stores, search for places to stay near your favorites kind of venues when you're traveling, and more. \n",
    "\n",
    "This project can be used for stakeholders to choose some of the best places to open their business."
   ]
  },
  {
   "cell_type": "markdown",
   "metadata": {},
   "source": [
    "## Data Description\n",
    "\n",
    "<b>1 - Get the center of the City:</b> We'll be using BeautifulSoup to get the city center neighborhood from the following page: https://pt.wikipedia.org/wiki/Lista_de_bairros_de_Bel%C3%A9m_(Par%C3%A1). After, the data will be used to create our Data Frame and explore it.\n",
    "\n",
    "<b>2 - Coordinates:</b> We'll need to extract the coordinates(Latitude and Longitude) from the Neighborhood so we can use it to create our maps.\n",
    "\n",
    "<b>3 - Foursquare:</b> The Foursquare API will be used to search for the venues.\n",
    "\n",
    "<b>4 - K-Means:</b> At the end, the data will also be clustered with the K-Means algorithm for further analysis.\n",
    "\n",
    "With the data in hand we'll use it to find possible good places for our friend to open his new Gym."
   ]
  },
  {
   "cell_type": "code",
   "execution_count": null,
   "metadata": {},
   "outputs": [],
   "source": []
  }
 ],
 "metadata": {
  "kernelspec": {
   "display_name": "Python 3",
   "language": "python",
   "name": "python3"
  },
  "language_info": {
   "codemirror_mode": {
    "name": "ipython",
    "version": 3
   },
   "file_extension": ".py",
   "mimetype": "text/x-python",
   "name": "python",
   "nbconvert_exporter": "python",
   "pygments_lexer": "ipython3",
   "version": "3.6.5"
  }
 },
 "nbformat": 4,
 "nbformat_minor": 2
}
